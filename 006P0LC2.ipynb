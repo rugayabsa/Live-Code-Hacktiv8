{
  "nbformat": 4,
  "nbformat_minor": 0,
  "metadata": {
    "colab": {
      "name": "006P0LC2.ipynb",
      "provenance": [],
      "collapsed_sections": []
    },
    "kernelspec": {
      "name": "python3",
      "display_name": "Python 3"
    },
    "language_info": {
      "name": "python"
    }
  },
  "cells": [
    {
      "cell_type": "markdown",
      "metadata": {
        "id": "129ONVavnfvf"
      },
      "source": [
        "#1. PERKENALAN"
      ]
    },
    {
      "cell_type": "code",
      "metadata": {
        "id": "YfKBvC0QniQG"
      },
      "source": [
        "'''\n",
        "Nama  : Rugaya Muksin BSA\n",
        "Batch : Data Science 006\n",
        "Phase : 0\n",
        "\n",
        "Live Code 2\n",
        "\n",
        "'''"
      ],
      "execution_count": null,
      "outputs": []
    },
    {
      "cell_type": "markdown",
      "metadata": {
        "id": "MtEavKpansox"
      },
      "source": [
        "#2. IMPORT LIBRARY"
      ]
    },
    {
      "cell_type": "code",
      "metadata": {
        "id": "DoKYrrP-niTo"
      },
      "source": [
        "import numpy as np\n",
        "from numpy import dot\n",
        "from numpy.linalg import norm\n",
        "import pandas as pd\n",
        "from scipy import integrate"
      ],
      "execution_count": null,
      "outputs": []
    },
    {
      "cell_type": "markdown",
      "metadata": {
        "id": "pshTL0JxnxYC"
      },
      "source": [
        "#3. DATA LOADING"
      ]
    },
    {
      "cell_type": "code",
      "metadata": {
        "colab": {
          "base_uri": "https://localhost:8080/",
          "height": 423
        },
        "id": "UCHkBxoupu4K",
        "outputId": "1fbe60a6-bae0-41a3-c52f-1db8fdaf5d2c"
      },
      "source": [
        "'''\n",
        "Menggunakan library pandas dengan perintah pd.read_csv untuk meload data dan\n",
        "mendefinisikan data frame sebagai swiss\n",
        "\n",
        "'''\n",
        "\n",
        "df = pd.read_csv('https://raw.githubusercontent.com/fahmimnalfrzki/Dataset/main/Swiss_boundaries.txt')\n",
        "df"
      ],
      "execution_count": null,
      "outputs": [
        {
          "output_type": "execute_result",
          "data": {
            "text/html": [
              "<div>\n",
              "<style scoped>\n",
              "    .dataframe tbody tr th:only-of-type {\n",
              "        vertical-align: middle;\n",
              "    }\n",
              "\n",
              "    .dataframe tbody tr th {\n",
              "        vertical-align: top;\n",
              "    }\n",
              "\n",
              "    .dataframe thead th {\n",
              "        text-align: right;\n",
              "    }\n",
              "</style>\n",
              "<table border=\"1\" class=\"dataframe\">\n",
              "  <thead>\n",
              "    <tr style=\"text-align: right;\">\n",
              "      <th></th>\n",
              "      <th>longitude</th>\n",
              "      <th>latitude</th>\n",
              "    </tr>\n",
              "  </thead>\n",
              "  <tbody>\n",
              "    <tr>\n",
              "      <th>0</th>\n",
              "      <td>9.56672</td>\n",
              "      <td>47.54045</td>\n",
              "    </tr>\n",
              "    <tr>\n",
              "      <th>1</th>\n",
              "      <td>9.55980</td>\n",
              "      <td>47.50209</td>\n",
              "    </tr>\n",
              "    <tr>\n",
              "      <th>2</th>\n",
              "      <td>9.59660</td>\n",
              "      <td>47.46944</td>\n",
              "    </tr>\n",
              "    <tr>\n",
              "      <th>3</th>\n",
              "      <td>9.64965</td>\n",
              "      <td>47.45861</td>\n",
              "    </tr>\n",
              "    <tr>\n",
              "      <th>4</th>\n",
              "      <td>9.67035</td>\n",
              "      <td>47.39069</td>\n",
              "    </tr>\n",
              "    <tr>\n",
              "      <th>...</th>\n",
              "      <td>...</td>\n",
              "      <td>...</td>\n",
              "    </tr>\n",
              "    <tr>\n",
              "      <th>273</th>\n",
              "      <td>9.03333</td>\n",
              "      <td>47.68833</td>\n",
              "    </tr>\n",
              "    <tr>\n",
              "      <th>274</th>\n",
              "      <td>9.08264</td>\n",
              "      <td>47.68541</td>\n",
              "    </tr>\n",
              "    <tr>\n",
              "      <th>275</th>\n",
              "      <td>9.26110</td>\n",
              "      <td>47.66284</td>\n",
              "    </tr>\n",
              "    <tr>\n",
              "      <th>276</th>\n",
              "      <td>9.47832</td>\n",
              "      <td>47.57585</td>\n",
              "    </tr>\n",
              "    <tr>\n",
              "      <th>277</th>\n",
              "      <td>9.56672</td>\n",
              "      <td>47.54045</td>\n",
              "    </tr>\n",
              "  </tbody>\n",
              "</table>\n",
              "<p>278 rows × 2 columns</p>\n",
              "</div>"
            ],
            "text/plain": [
              "     longitude  latitude\n",
              "0      9.56672  47.54045\n",
              "1      9.55980  47.50209\n",
              "2      9.59660  47.46944\n",
              "3      9.64965  47.45861\n",
              "4      9.67035  47.39069\n",
              "..         ...       ...\n",
              "273    9.03333  47.68833\n",
              "274    9.08264  47.68541\n",
              "275    9.26110  47.66284\n",
              "276    9.47832  47.57585\n",
              "277    9.56672  47.54045\n",
              "\n",
              "[278 rows x 2 columns]"
            ]
          },
          "metadata": {},
          "execution_count": 13
        }
      ]
    },
    {
      "cell_type": "markdown",
      "metadata": {
        "id": "GcOnf9UQn1Ai"
      },
      "source": [
        "#4. MATEMATICAL CALCULATIONS"
      ]
    },
    {
      "cell_type": "markdown",
      "metadata": {
        "id": "CHkykQA0oCT8"
      },
      "source": [
        "4.1 Mendefinisikan vektor"
      ]
    },
    {
      "cell_type": "code",
      "metadata": {
        "id": "RU5Z4B4Gn3O0"
      },
      "source": [
        "'''\n",
        "Menggunakan perintah np.array dari library numpy untuk mendefinisikan vektor\n",
        "kalimat 1 dan vektor kalimat 2 sebagai v1 dan v2\n",
        "\n",
        "'''\n",
        "\n",
        "v1 = np.array([1, 2, 2, 1, 1, 1, 2, 2])\n",
        "v2 = np.array([1, 1, 2, 1, 1, 1, 1, 2])"
      ],
      "execution_count": null,
      "outputs": []
    },
    {
      "cell_type": "markdown",
      "metadata": {
        "id": "PgPWGiULriW2"
      },
      "source": [
        "4.2 Cosine Similarity"
      ]
    },
    {
      "cell_type": "code",
      "metadata": {
        "colab": {
          "base_uri": "https://localhost:8080/"
        },
        "id": "HHxt0wrQreOH",
        "outputId": "213818dc-25d9-4465-b157-5f74811300f9"
      },
      "source": [
        "'''\n",
        "Menghitung cosine similarity dengan perkalian dot product menggunakan perintah\n",
        "dot dan norm dari library numpy\n",
        "\n",
        "'''\n",
        "\n",
        "result = dot(v1, v2)/(norm(v1)*norm(v2))\n",
        "print('Hasil Cosine Similarity:' , result)"
      ],
      "execution_count": null,
      "outputs": [
        {
          "output_type": "stream",
          "name": "stdout",
          "text": [
            "Hasil Cosine Similarity: 0.9561828874675149\n"
          ]
        }
      ]
    },
    {
      "cell_type": "markdown",
      "metadata": {
        "id": "cnmxvYRqwhjh"
      },
      "source": [
        "4.3 Calculus Implementation"
      ]
    },
    {
      "cell_type": "code",
      "metadata": {
        "colab": {
          "base_uri": "https://localhost:8080/"
        },
        "id": "u04xnOXNxcSt",
        "outputId": "7578d4d9-f7f1-4e06-af69-365ab53fe02d"
      },
      "source": [
        "'''\n",
        "wilayah swiss dibagi menjadi dua wilayah yaitu northern dan southern.\n",
        "Agar mempermudah hitungan integral saya menggunakan acuan nilai tengah latitude \n",
        "dimana nilai maksimum ditambah nilai minimum lalu dibagi dua. \n",
        "\n",
        "'''\n",
        "\n",
        "batas = (df['latitude'].max() + df['latitude'].min())/2\n",
        "batas"
      ],
      "execution_count": null,
      "outputs": [
        {
          "output_type": "execute_result",
          "data": {
            "text/plain": [
              "46.818050000000056"
            ]
          },
          "metadata": {},
          "execution_count": 15
        }
      ]
    },
    {
      "cell_type": "code",
      "metadata": {
        "id": "xnLMkCJXyYHb"
      },
      "source": [
        "'''\n",
        "Nilai diatas nilai tengah latitude merupakan nilai yang akan digunakan untuk \n",
        "menghitung luas swiss bagian northern. \n",
        "\n",
        "Nilai dibawah nilai tengah latitude merupakan nilai yang akan digunakan untuk\n",
        "menghitung luas swiss bagian southern.\n",
        "\n",
        "Mendefinisikan dataframe northern dan dataframe southern.\n",
        "\n",
        "'''\n",
        "\n",
        "df_n = df[df['latitude'] >= batas] # pembuatan dataframe untuk north\n",
        "df_s = df[df['latitude'] < batas] # pembuatan dataframe untuk south"
      ],
      "execution_count": null,
      "outputs": []
    },
    {
      "cell_type": "code",
      "metadata": {
        "colab": {
          "base_uri": "https://localhost:8080/"
        },
        "id": "6jOx98Ra3V4w",
        "outputId": "495a497a-e361-4e04-fe3c-d8428cc81ba0"
      },
      "source": [
        "'''\n",
        "Menghitung luas swiss bagian northern menggunakan integrate.trapz yang merupakan\n",
        "perintah dari library SciPy\n",
        "\n",
        "'''\n",
        "\n",
        "x = df_n['longitude']\n",
        "y = df_n['latitude']\n",
        "area_A = integrate.trapz(y,x) # memanggil fungsi integral untuk North Swiss\n",
        "\n",
        "print('Luas Swiss bagian northern sebesar:',area_A)"
      ],
      "execution_count": null,
      "outputs": [
        {
          "output_type": "stream",
          "name": "stdout",
          "text": [
            "Luas Swiss bagian northern sebesar: 2.138396827150004\n"
          ]
        }
      ]
    },
    {
      "cell_type": "code",
      "metadata": {
        "colab": {
          "base_uri": "https://localhost:8080/"
        },
        "id": "MB-FMmLtJ-bf",
        "outputId": "0d91d0bc-07ba-4220-bc07-88605f55708d"
      },
      "source": [
        "'''\n",
        "Menghitung luas swiss bagian southern menggunakan integrate.trapz yang merupakan\n",
        "perintah dari library SciPy\n",
        "\n",
        "'''\n",
        "\n",
        "x = df_s['longitude']\n",
        "y = df_s['latitude']\n",
        "area_B = integrate.trapz(y,x) # memanggil fungsi integral untuk North Swiss\n",
        "\n",
        "print('Luas Swiss bagian southern sebesar:',area_B)"
      ],
      "execution_count": null,
      "outputs": [
        {
          "output_type": "stream",
          "name": "stdout",
          "text": [
            "Luas Swiss bagian southern sebesar: -184.23261463525068\n"
          ]
        }
      ]
    },
    {
      "cell_type": "code",
      "metadata": {
        "colab": {
          "base_uri": "https://localhost:8080/"
        },
        "id": "o0ni0KR-6PMy",
        "outputId": "5dc2707c-aa2d-4d73-92da-294f0f078a63"
      },
      "source": [
        "'''\n",
        "Menghitung luas swiss secara keseluruhan\n",
        "\n",
        "'''\n",
        "\n",
        "print('Area swiss berdasarkan koordinat adalah',area_A-area_B)"
      ],
      "execution_count": null,
      "outputs": [
        {
          "output_type": "stream",
          "name": "stdout",
          "text": [
            "Area swiss berdasarkan koordinat adalah 186.3710114624007\n"
          ]
        }
      ]
    },
    {
      "cell_type": "markdown",
      "metadata": {
        "id": "OMuV9jLfn38u"
      },
      "source": [
        "#5. RESULT"
      ]
    },
    {
      "cell_type": "code",
      "metadata": {
        "id": "xFLkV9z6n5kU"
      },
      "source": [
        "'''\n",
        "Hasil dari cosine similarity sebesar 0.96 menunjukkan bahwa kalimat 1 dan \n",
        "kalimat 2 memiliki konteks yang serupa dikarenakan semakin besar nilai \n",
        "cosine similarity mendekati 1 maka sudut antar kedua vektor kalimat 1 dan\n",
        "kalimat 2 makin kecil sehingga menunjukkan similiratis yang besar.\n",
        "\n",
        "Luas Swiss bagian northern sebesar: 2.138396827150004\n",
        "Luas Swiss bagian southern sebesar: -184.23261463525068\n",
        "Area swiss berdasarkan koordinat adalah 186.3710114624007\n",
        "\n",
        "'''"
      ],
      "execution_count": null,
      "outputs": []
    }
  ]
}