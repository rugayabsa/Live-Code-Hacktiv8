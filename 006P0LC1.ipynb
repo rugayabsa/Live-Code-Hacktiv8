{
  "nbformat": 4,
  "nbformat_minor": 0,
  "metadata": {
    "colab": {
      "name": "006P0LC1.ipynb",
      "provenance": [],
      "collapsed_sections": []
    },
    "kernelspec": {
      "name": "python3",
      "display_name": "Python 3"
    },
    "language_info": {
      "name": "python"
    }
  },
  "cells": [
    {
      "cell_type": "markdown",
      "metadata": {
        "id": "OPTgBQg1hT0J"
      },
      "source": [
        "####1. PERKENALAN"
      ]
    },
    {
      "cell_type": "code",
      "metadata": {
        "id": "IFcF32xhhg9s",
        "colab": {
          "base_uri": "https://localhost:8080/",
          "height": 35
        },
        "outputId": "1e9fe875-03b9-4350-ad10-a2df88626e08"
      },
      "source": [
        "'''\n",
        "\n",
        "Nama   : Rugaya Muksin BSA\n",
        "Batch  : Data Science 006\n",
        "\n",
        "Live Code 1, Phase 0\n",
        "\n",
        "'''"
      ],
      "execution_count": 4,
      "outputs": [
        {
          "output_type": "execute_result",
          "data": {
            "application/vnd.google.colaboratory.intrinsic+json": {
              "type": "string"
            },
            "text/plain": [
              "'\\n\\nNama   : Rugaya Muksin BSA\\nBatch  : Data Science 006\\n\\nLive Code 1, Phase 0\\n\\n'"
            ]
          },
          "metadata": {},
          "execution_count": 4
        }
      ]
    },
    {
      "cell_type": "markdown",
      "metadata": {
        "id": "6H3Ma3u-iAsL"
      },
      "source": [
        "####2. IMPORT LIBRARY"
      ]
    },
    {
      "cell_type": "code",
      "metadata": {
        "id": "4-u5kp0UiFCM"
      },
      "source": [
        "import numpy as np\n",
        "import pandas as pd"
      ],
      "execution_count": 5,
      "outputs": []
    },
    {
      "cell_type": "markdown",
      "metadata": {
        "id": "L-vaUBt-iV4w"
      },
      "source": [
        "####3. DATA LOADING"
      ]
    },
    {
      "cell_type": "code",
      "metadata": {
        "id": "r-i7gm5eiYwD"
      },
      "source": [
        "'''\n",
        "Memuat Dataset format excel dengan Pandas serta memberi nama file dengan NMC1\n",
        "\n",
        "'''\n",
        "\n",
        "NMC1 = pd.read_excel('NMC1-9.xlsx')"
      ],
      "execution_count": 6,
      "outputs": []
    },
    {
      "cell_type": "code",
      "metadata": {
        "colab": {
          "base_uri": "https://localhost:8080/",
          "height": 423
        },
        "id": "7FSvr3Gwir34",
        "outputId": "1ebfe906-97d7-44de-8d26-f235e6fb545a"
      },
      "source": [
        "NMC1"
      ],
      "execution_count": 7,
      "outputs": [
        {
          "output_type": "execute_result",
          "data": {
            "text/html": [
              "<div>\n",
              "<style scoped>\n",
              "    .dataframe tbody tr th:only-of-type {\n",
              "        vertical-align: middle;\n",
              "    }\n",
              "\n",
              "    .dataframe tbody tr th {\n",
              "        vertical-align: top;\n",
              "    }\n",
              "\n",
              "    .dataframe thead th {\n",
              "        text-align: right;\n",
              "    }\n",
              "</style>\n",
              "<table border=\"1\" class=\"dataframe\">\n",
              "  <thead>\n",
              "    <tr style=\"text-align: right;\">\n",
              "      <th></th>\n",
              "      <th>time(s)</th>\n",
              "      <th>V_m</th>\n",
              "      <th>Current (A)</th>\n",
              "      <th>Cycle</th>\n",
              "      <th>Cap</th>\n",
              "    </tr>\n",
              "  </thead>\n",
              "  <tbody>\n",
              "    <tr>\n",
              "      <th>0</th>\n",
              "      <td>0</td>\n",
              "      <td>4.098</td>\n",
              "      <td>0.997</td>\n",
              "      <td>1</td>\n",
              "      <td>2.840817</td>\n",
              "    </tr>\n",
              "    <tr>\n",
              "      <th>1</th>\n",
              "      <td>1</td>\n",
              "      <td>4.096</td>\n",
              "      <td>0.998</td>\n",
              "      <td>1</td>\n",
              "      <td>2.840817</td>\n",
              "    </tr>\n",
              "    <tr>\n",
              "      <th>2</th>\n",
              "      <td>2</td>\n",
              "      <td>4.094</td>\n",
              "      <td>0.999</td>\n",
              "      <td>1</td>\n",
              "      <td>2.840817</td>\n",
              "    </tr>\n",
              "    <tr>\n",
              "      <th>3</th>\n",
              "      <td>3</td>\n",
              "      <td>4.093</td>\n",
              "      <td>0.998</td>\n",
              "      <td>1</td>\n",
              "      <td>2.840817</td>\n",
              "    </tr>\n",
              "    <tr>\n",
              "      <th>4</th>\n",
              "      <td>4</td>\n",
              "      <td>4.092</td>\n",
              "      <td>0.999</td>\n",
              "      <td>1</td>\n",
              "      <td>2.840817</td>\n",
              "    </tr>\n",
              "    <tr>\n",
              "      <th>...</th>\n",
              "      <td>...</td>\n",
              "      <td>...</td>\n",
              "      <td>...</td>\n",
              "      <td>...</td>\n",
              "      <td>...</td>\n",
              "    </tr>\n",
              "    <tr>\n",
              "      <th>90977</th>\n",
              "      <td>90977</td>\n",
              "      <td>2.506</td>\n",
              "      <td>1.002</td>\n",
              "      <td>9</td>\n",
              "      <td>2.770180</td>\n",
              "    </tr>\n",
              "    <tr>\n",
              "      <th>90978</th>\n",
              "      <td>90978</td>\n",
              "      <td>2.504</td>\n",
              "      <td>1.002</td>\n",
              "      <td>9</td>\n",
              "      <td>2.770180</td>\n",
              "    </tr>\n",
              "    <tr>\n",
              "      <th>90979</th>\n",
              "      <td>90979</td>\n",
              "      <td>2.502</td>\n",
              "      <td>1.002</td>\n",
              "      <td>9</td>\n",
              "      <td>2.770180</td>\n",
              "    </tr>\n",
              "    <tr>\n",
              "      <th>90980</th>\n",
              "      <td>90980</td>\n",
              "      <td>2.500</td>\n",
              "      <td>1.002</td>\n",
              "      <td>9</td>\n",
              "      <td>2.770180</td>\n",
              "    </tr>\n",
              "    <tr>\n",
              "      <th>90981</th>\n",
              "      <td>90981</td>\n",
              "      <td>2.497</td>\n",
              "      <td>1.002</td>\n",
              "      <td>9</td>\n",
              "      <td>2.770180</td>\n",
              "    </tr>\n",
              "  </tbody>\n",
              "</table>\n",
              "<p>90982 rows × 5 columns</p>\n",
              "</div>"
            ],
            "text/plain": [
              "       time(s)    V_m  Current (A)  Cycle       Cap\n",
              "0            0  4.098        0.997      1  2.840817\n",
              "1            1  4.096        0.998      1  2.840817\n",
              "2            2  4.094        0.999      1  2.840817\n",
              "3            3  4.093        0.998      1  2.840817\n",
              "4            4  4.092        0.999      1  2.840817\n",
              "...        ...    ...          ...    ...       ...\n",
              "90977    90977  2.506        1.002      9  2.770180\n",
              "90978    90978  2.504        1.002      9  2.770180\n",
              "90979    90979  2.502        1.002      9  2.770180\n",
              "90980    90980  2.500        1.002      9  2.770180\n",
              "90981    90981  2.497        1.002      9  2.770180\n",
              "\n",
              "[90982 rows x 5 columns]"
            ]
          },
          "metadata": {},
          "execution_count": 7
        }
      ]
    },
    {
      "cell_type": "markdown",
      "metadata": {
        "id": "k1XKzuIyixfD"
      },
      "source": [
        "####4. ANSWER"
      ]
    },
    {
      "cell_type": "markdown",
      "metadata": {
        "id": "6SYY-e-9i1o_"
      },
      "source": [
        "Soal Nomor 1"
      ]
    },
    {
      "cell_type": "markdown",
      "metadata": {
        "id": "mBRxKG86uVCh"
      },
      "source": [
        "a. Buatlah dua fungsi eksplisit masing-masing memuat perhitungan hambatan (R) dan daya (P) yang nantinya akan digunakan untuk perhitungan"
      ]
    },
    {
      "cell_type": "code",
      "metadata": {
        "id": "8OKjlsaei4o8"
      },
      "source": [
        "'''\n",
        "Menerapkan functions untuk mendefinisikan perhitungan hambatan (R) dan daya (P)\n",
        "\n",
        "'''\n",
        "\n",
        "def resistansi (V, I):\n",
        "  R = V/I\n",
        "  return(R)\n",
        "\n",
        "def daya (V, I):\n",
        "  P = V*I\n",
        "  return(P)"
      ],
      "execution_count": 8,
      "outputs": []
    },
    {
      "cell_type": "markdown",
      "metadata": {
        "id": "OXce3LMQkJov"
      },
      "source": [
        "b. Buat kolom baru dengan nama kolom R/P berisikan hasil perhitungan daya/hambatan dengan kriteria untuk Kapasitas >=2.5 hitung daya, Kapasitas <2.5 hitung nilai hambatan. (Hint: Gunakan for loop dan if statement untuk mengerjakan perintah nomor b, kamu bisa menggunakan list untuk menyimpan perhitungan sementara, setelahnya dapat dimasukkan ke kolom R/P)."
      ]
    },
    {
      "cell_type": "code",
      "metadata": {
        "id": "BzVxsPRUkalY"
      },
      "source": [
        "'''\n",
        "Menyalin dataset NMC1 menjadi nama variabel df, agar ketika melakukan eksplorasi\n",
        "data, dataset aslinya masih bisa diakses dan dipanggil kembali dengan nama NMC1.\n",
        "\n",
        "'''\n",
        "\n",
        "df = NMC1.copy() "
      ],
      "execution_count": 9,
      "outputs": []
    },
    {
      "cell_type": "code",
      "metadata": {
        "id": "MIW1H244kp1K"
      },
      "source": [
        "'''\n",
        "Menerapkan konsep conditional if untuk menyelesaikan perhitungan jika nilai \n",
        "kapasitas >=2.5 dan jika nilai kapasitas <2.5\n",
        "\n",
        "Serta menerapkan looping untuk menyelesaikan perhitungan nilai hambatan dan daya\n",
        "sesuai dengan nilai yang ada pada kolom V_m dan Current (A)\n",
        "'''\n",
        "\n",
        "rp = []\n",
        "n = 0\n",
        "\n",
        "for i in df['Cap']:\n",
        "  if i >= 2.5:\n",
        "    rp.append(daya(df['V_m'][n], df['Current (A)'][n]))\n",
        "  else:\n",
        "    rp.append(resistansi(df['V_m'][n], df['Current (A)'][n]))\n",
        "\n",
        "df['R/P'] = rp"
      ],
      "execution_count": 10,
      "outputs": []
    },
    {
      "cell_type": "code",
      "metadata": {
        "colab": {
          "base_uri": "https://localhost:8080/",
          "height": 206
        },
        "id": "DVcEcRFSoE8F",
        "outputId": "8998be93-5168-4696-81c1-47ae3c9021c8"
      },
      "source": [
        "df.head()"
      ],
      "execution_count": 11,
      "outputs": [
        {
          "output_type": "execute_result",
          "data": {
            "text/html": [
              "<div>\n",
              "<style scoped>\n",
              "    .dataframe tbody tr th:only-of-type {\n",
              "        vertical-align: middle;\n",
              "    }\n",
              "\n",
              "    .dataframe tbody tr th {\n",
              "        vertical-align: top;\n",
              "    }\n",
              "\n",
              "    .dataframe thead th {\n",
              "        text-align: right;\n",
              "    }\n",
              "</style>\n",
              "<table border=\"1\" class=\"dataframe\">\n",
              "  <thead>\n",
              "    <tr style=\"text-align: right;\">\n",
              "      <th></th>\n",
              "      <th>time(s)</th>\n",
              "      <th>V_m</th>\n",
              "      <th>Current (A)</th>\n",
              "      <th>Cycle</th>\n",
              "      <th>Cap</th>\n",
              "      <th>R/P</th>\n",
              "    </tr>\n",
              "  </thead>\n",
              "  <tbody>\n",
              "    <tr>\n",
              "      <th>0</th>\n",
              "      <td>0</td>\n",
              "      <td>4.098</td>\n",
              "      <td>0.997</td>\n",
              "      <td>1</td>\n",
              "      <td>2.840817</td>\n",
              "      <td>4.085706</td>\n",
              "    </tr>\n",
              "    <tr>\n",
              "      <th>1</th>\n",
              "      <td>1</td>\n",
              "      <td>4.096</td>\n",
              "      <td>0.998</td>\n",
              "      <td>1</td>\n",
              "      <td>2.840817</td>\n",
              "      <td>4.085706</td>\n",
              "    </tr>\n",
              "    <tr>\n",
              "      <th>2</th>\n",
              "      <td>2</td>\n",
              "      <td>4.094</td>\n",
              "      <td>0.999</td>\n",
              "      <td>1</td>\n",
              "      <td>2.840817</td>\n",
              "      <td>4.085706</td>\n",
              "    </tr>\n",
              "    <tr>\n",
              "      <th>3</th>\n",
              "      <td>3</td>\n",
              "      <td>4.093</td>\n",
              "      <td>0.998</td>\n",
              "      <td>1</td>\n",
              "      <td>2.840817</td>\n",
              "      <td>4.085706</td>\n",
              "    </tr>\n",
              "    <tr>\n",
              "      <th>4</th>\n",
              "      <td>4</td>\n",
              "      <td>4.092</td>\n",
              "      <td>0.999</td>\n",
              "      <td>1</td>\n",
              "      <td>2.840817</td>\n",
              "      <td>4.085706</td>\n",
              "    </tr>\n",
              "  </tbody>\n",
              "</table>\n",
              "</div>"
            ],
            "text/plain": [
              "   time(s)    V_m  Current (A)  Cycle       Cap       R/P\n",
              "0        0  4.098        0.997      1  2.840817  4.085706\n",
              "1        1  4.096        0.998      1  2.840817  4.085706\n",
              "2        2  4.094        0.999      1  2.840817  4.085706\n",
              "3        3  4.093        0.998      1  2.840817  4.085706\n",
              "4        4  4.092        0.999      1  2.840817  4.085706"
            ]
          },
          "metadata": {},
          "execution_count": 11
        }
      ]
    },
    {
      "cell_type": "markdown",
      "metadata": {
        "id": "grKISO3iuezs"
      },
      "source": [
        "c. Hitunglah rata-rata nilai kapasitas untuk arus = 1 Ampere dan cycle ganjil."
      ]
    },
    {
      "cell_type": "code",
      "metadata": {
        "id": "XhV45vC9qUUC"
      },
      "source": [
        "'''\n",
        "Mengimplementasikan pandas query untuk menghitung rata-rata nilai kapasitas pada\n",
        "kondisi nilai kolom Current (A) = 1 dan nilai kolom Cycle harus bernilai ganjil\"\n",
        "\n",
        "'''\n",
        "\n",
        "A = df[\n",
        "      (df['Current (A)'] == 1) &\n",
        "      (df['Cycle'] %2==1)\n",
        "]"
      ],
      "execution_count": 20,
      "outputs": []
    },
    {
      "cell_type": "code",
      "metadata": {
        "colab": {
          "base_uri": "https://localhost:8080/"
        },
        "id": "spxLTrtKe2ru",
        "outputId": "457fa497-f611-44dc-eb99-6ad728221bee"
      },
      "source": [
        "A.mean()"
      ],
      "execution_count": 21,
      "outputs": [
        {
          "output_type": "execute_result",
          "data": {
            "text/plain": [
              "time(s)        44253.645095\n",
              "V_m                3.615658\n",
              "Current (A)        1.000000\n",
              "Cycle              4.863836\n",
              "Cap                2.806485\n",
              "R/P                4.085706\n",
              "dtype: float64"
            ]
          },
          "metadata": {},
          "execution_count": 21
        }
      ]
    }
  ]
}